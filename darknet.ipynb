{
  "nbformat": 4,
  "nbformat_minor": 0,
  "metadata": {
    "colab": {
      "name": "darknet.ipynb",
      "provenance": [],
      "mount_file_id": "1zNw3bV4E98pSmOK_BhmTH_YSB5BdiInZ",
      "authorship_tag": "ABX9TyP2KqSR2MgQv6szb7DKHQny",
      "include_colab_link": true
    },
    "kernelspec": {
      "name": "python3",
      "display_name": "Python 3"
    },
    "accelerator": "GPU"
  },
  "cells": [
    {
      "cell_type": "markdown",
      "metadata": {
        "id": "view-in-github",
        "colab_type": "text"
      },
      "source": [
        "<a href=\"https://colab.research.google.com/github/mmaithani/Kaggle-Projects/blob/master/darknet.ipynb\" target=\"_parent\"><img src=\"https://colab.research.google.com/assets/colab-badge.svg\" alt=\"Open In Colab\"/></a>"
      ]
    },
    {
      "cell_type": "code",
      "metadata": {
        "id": "wXLeFCqQhPnX"
      },
      "source": [
        "import cv2, os\n",
        "import matplotlib.pyplot as plt\n",
        "%matplotlib inline\n",
        "  "
      ],
      "execution_count": null,
      "outputs": []
    },
    {
      "cell_type": "code",
      "metadata": {
        "id": "LM1OnO3un9y1"
      },
      "source": [
        "!rm -rf /content/darknet"
      ],
      "execution_count": null,
      "outputs": []
    },
    {
      "cell_type": "code",
      "metadata": {
        "id": "1tkE4VcXoLea"
      },
      "source": [
        "!git clone https://github.com/pjreddie/darknet\n"
      ],
      "execution_count": null,
      "outputs": []
    },
    {
      "cell_type": "code",
      "metadata": {
        "id": "OlwvsnDghSgH"
      },
      "source": [
        "!ls\n",
        "!cd /content\n",
        "!rm -fr darknet\n",
        "# !git clone https://github.com/AlexeyAB/darknet/\n",
        "!git clone https://github.com/pjreddie/darknet\n",
        "\n",
        "% cd darknet\n",
        "!sed -i 's/OPENCV=0/OPENCV=1/g' Makefile\n",
        "!sed -i 's/GPU=0/GPU=1/g' Makefile\n",
        "!sed -i 's/CUDNN=0/CUDNN=1/g' Makefile\n",
        "!apt update\n",
        "!apt-get install libopencv-dev"
      ],
      "execution_count": null,
      "outputs": []
    },
    {
      "cell_type": "code",
      "metadata": {
        "id": "f77p7R8fhW4O"
      },
      "source": [
        "!make &> compile.log"
      ],
      "execution_count": null,
      "outputs": []
    },
    {
      "cell_type": "code",
      "metadata": {
        "id": "rEvHkPZFGi32"
      },
      "source": [
        "!wget https://pjreddie.com/media/files/yolov3.weights"
      ],
      "execution_count": null,
      "outputs": []
    },
    {
      "cell_type": "code",
      "metadata": {
        "id": "ufKuJSFYGR9D"
      },
      "source": [
        "def predictImage(imageDir):\n",
        "  os.system(\"cd /content/darknet && ./darknet detect cfg/yolov3.cfg yolov3.weights {}\".format(imageDir))\n",
        "  image = cv2.imread(\"/content/darknet/predictions.jpg\")\n",
        "  height, width = image.shape[:2]\n",
        "  resized_image = cv2.resize(image,(3*width, 3*height), interpolation = cv2.INTER_CUBIC)\n",
        "\n",
        "  fig = plt.gcf()\n",
        "  fig.set_size_inches(18, 10)\n",
        "  plt.axis(\"off\")\n",
        "  #plt.rcParams['figure.figsize'] = [10, 5]\n",
        "  plt.imshow(cv2.cvtColor(resized_image, cv2.COLOR_BGR2RGB))\n",
        "  plt.show()"
      ],
      "execution_count": null,
      "outputs": []
    },
    {
      "cell_type": "code",
      "metadata": {
        "id": "frRZATycGTiW"
      },
      "source": [
        "!wget https://github.com/mozanunal/yoloOnGoogleColab/raw/master/test/test.jpg\n",
        "!ls"
      ],
      "execution_count": null,
      "outputs": []
    },
    {
      "cell_type": "code",
      "metadata": {
        "id": "7xPzqWB_agmm"
      },
      "source": [
        "predictImage(\"test.jpg\")"
      ],
      "execution_count": null,
      "outputs": []
    },
    {
      "cell_type": "code",
      "metadata": {
        "id": "lgkl6Oa9Gn-v"
      },
      "source": [
        "! ./darknet detect cfg/yolov3.cfg yolov3.weights data/dog.jpg"
      ],
      "execution_count": null,
      "outputs": []
    },
    {
      "cell_type": "code",
      "metadata": {
        "id": "XiwDDM9cPUO0"
      },
      "source": [
        "!cp \"/content/drive/My Drive/h\" -r \"/content/\""
      ],
      "execution_count": null,
      "outputs": []
    },
    {
      "cell_type": "code",
      "metadata": {
        "id": "xkPJ3Iyej3s3"
      },
      "source": [
        "os.system(\"cd /content/darknet && ./darknet detect cfg/yolov3.cfg yolov3.weights data/person.jpg\")"
      ],
      "execution_count": null,
      "outputs": []
    },
    {
      "cell_type": "code",
      "metadata": {
        "id": "6MFL1fM9l8re"
      },
      "source": [
        "# !rm -rf /content/darknet/"
      ],
      "execution_count": null,
      "outputs": []
    },
    {
      "cell_type": "code",
      "metadata": {
        "id": "0AfF3RlHeiMN"
      },
      "source": [
        "!./darknet detect cfg/yolov3.cfg yolov3.weights data/person.jpg "
      ],
      "execution_count": null,
      "outputs": []
    },
    {
      "cell_type": "code",
      "metadata": {
        "id": "JTfuyhdwfsZt"
      },
      "source": [
        ""
      ],
      "execution_count": null,
      "outputs": []
    }
  ]
}