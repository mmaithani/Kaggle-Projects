{
  "nbformat": 4,
  "nbformat_minor": 0,
  "metadata": {
    "colab": {
      "name": "global wheat head detection.ipynb",
      "provenance": [],
      "toc_visible": true,
      "authorship_tag": "ABX9TyPyMQ8AeGD9IO/rYE7ZAgUe",
      "include_colab_link": true
    },
    "kernelspec": {
      "name": "python3",
      "display_name": "Python 3"
    }
  },
  "cells": [
    {
      "cell_type": "markdown",
      "metadata": {
        "id": "view-in-github",
        "colab_type": "text"
      },
      "source": [
        "<a href=\"https://colab.research.google.com/github/mmaithani/Kaggle-Projects/blob/master/global_wheat_head_detection.ipynb\" target=\"_parent\"><img src=\"https://colab.research.google.com/assets/colab-badge.svg\" alt=\"Open In Colab\"/></a>"
      ]
    },
    {
      "cell_type": "code",
      "metadata": {
        "id": "_Ho7ycxhUHoe",
        "colab_type": "code",
        "colab": {}
      },
      "source": [
        "import os\n",
        "import pandas as pd"
      ],
      "execution_count": null,
      "outputs": []
    },
    {
      "cell_type": "code",
      "metadata": {
        "id": "J-usD-M9LI3h",
        "colab_type": "code",
        "colab": {}
      },
      "source": [
        " ! pip install -q kaggle\n",
        "#  ! pip install --upgrade kaggle"
      ],
      "execution_count": null,
      "outputs": []
    },
    {
      "cell_type": "code",
      "metadata": {
        "id": "TMF4_qtlLgO4",
        "colab_type": "code",
        "colab": {}
      },
      "source": [
        " ! mkdir ~/.kaggle"
      ],
      "execution_count": null,
      "outputs": []
    },
    {
      "cell_type": "markdown",
      "metadata": {
        "id": "hB9Dtb0MLl3j",
        "colab_type": "text"
      },
      "source": [
        "### copy kaggle api in kaggle directory"
      ]
    },
    {
      "cell_type": "code",
      "metadata": {
        "id": "rB01liiTLjLe",
        "colab_type": "code",
        "colab": {}
      },
      "source": [
        "! cp /kaggle.json ~/.kaggle/"
      ],
      "execution_count": null,
      "outputs": []
    },
    {
      "cell_type": "code",
      "metadata": {
        "id": "JXl8i7oFMHp9",
        "colab_type": "code",
        "colab": {}
      },
      "source": [
        "! chmod 600 ~/.kaggle/kaggle.json"
      ],
      "execution_count": null,
      "outputs": []
    },
    {
      "cell_type": "code",
      "metadata": {
        "id": "XyyfWON4MzfX",
        "colab_type": "code",
        "colab": {}
      },
      "source": [
        "# check kaggle api\n",
        "! kaggle datasets list"
      ],
      "execution_count": null,
      "outputs": []
    },
    {
      "cell_type": "markdown",
      "metadata": {
        "id": "3nU3M56nS8uB",
        "colab_type": "text"
      },
      "source": [
        "## two directories for data and images"
      ]
    },
    {
      "cell_type": "code",
      "metadata": {
        "id": "cYHyo69AS7w_",
        "colab_type": "code",
        "colab": {}
      },
      "source": [
        "! mkdir /content/dataset\n",
        "! kaggle competitions download -c 'global-wheat-detection' -p '/content/dataset'"
      ],
      "execution_count": null,
      "outputs": []
    },
    {
      "cell_type": "code",
      "metadata": {
        "id": "36ZyaAADM2cH",
        "colab_type": "code",
        "colab": {}
      },
      "source": [
        "! mkdir /content/images\n",
        "! kaggle competitions download -c 'global-wheat-detection' -p '/content/images'"
      ],
      "execution_count": null,
      "outputs": []
    },
    {
      "cell_type": "code",
      "metadata": {
        "id": "_TDDbqIaOl3J",
        "colab_type": "code",
        "colab": {
          "base_uri": "https://localhost:8080/",
          "height": 102
        },
        "outputId": "4fd9c72b-e084-47d2-ca36-12f3b970dea2"
      },
      "source": [
        "os.listdir('/content')"
      ],
      "execution_count": null,
      "outputs": [
        {
          "output_type": "execute_result",
          "data": {
            "text/plain": [
              "['.config',\n",
              " 'train.csv.zip',\n",
              " 'sample_submission.csv',\n",
              " '.ipynb_checkpoints',\n",
              " 'sample_data']"
            ]
          },
          "metadata": {
            "tags": []
          },
          "execution_count": 48
        }
      ]
    },
    {
      "cell_type": "code",
      "metadata": {
        "id": "BpmIlm6_P4iy",
        "colab_type": "code",
        "colab": {}
      },
      "source": [
        "# !rm   'cb8d261a3.jpg' 'aac893a91.jpg'"
      ],
      "execution_count": null,
      "outputs": []
    },
    {
      "cell_type": "code",
      "metadata": {
        "id": "wKaCPA27PU0S",
        "colab_type": "code",
        "colab": {
          "base_uri": "https://localhost:8080/",
          "height": 51
        },
        "outputId": "209a76c3-f659-4bdb-f027-3a136bf94cff"
      },
      "source": [
        "! unzip /content/train.csv.zip"
      ],
      "execution_count": null,
      "outputs": [
        {
          "output_type": "stream",
          "text": [
            "Archive:  /content/train.csv.zip\n",
            "  inflating: train.csv               \n"
          ],
          "name": "stdout"
        }
      ]
    },
    {
      "cell_type": "code",
      "metadata": {
        "id": "CJcunCEbT4ab",
        "colab_type": "code",
        "colab": {}
      },
      "source": [
        "train=pd.read_csv('train.csv')\n",
        "sampple_output = pd.read_csv('sample_submission.csv')"
      ],
      "execution_count": 57,
      "outputs": []
    },
    {
      "cell_type": "code",
      "metadata": {
        "id": "RE664FC9UIsV",
        "colab_type": "code",
        "colab": {
          "base_uri": "https://localhost:8080/",
          "height": 669
        },
        "outputId": "32de4ca0-3153-4106-d186-06c693352476"
      },
      "source": [
        "train.tail(20)"
      ],
      "execution_count": 67,
      "outputs": [
        {
          "output_type": "execute_result",
          "data": {
            "text/html": [
              "<div>\n",
              "<style scoped>\n",
              "    .dataframe tbody tr th:only-of-type {\n",
              "        vertical-align: middle;\n",
              "    }\n",
              "\n",
              "    .dataframe tbody tr th {\n",
              "        vertical-align: top;\n",
              "    }\n",
              "\n",
              "    .dataframe thead th {\n",
              "        text-align: right;\n",
              "    }\n",
              "</style>\n",
              "<table border=\"1\" class=\"dataframe\">\n",
              "  <thead>\n",
              "    <tr style=\"text-align: right;\">\n",
              "      <th></th>\n",
              "      <th>image_id</th>\n",
              "      <th>width</th>\n",
              "      <th>height</th>\n",
              "      <th>bbox</th>\n",
              "      <th>source</th>\n",
              "    </tr>\n",
              "  </thead>\n",
              "  <tbody>\n",
              "    <tr>\n",
              "      <th>147773</th>\n",
              "      <td>e6b5e296d</td>\n",
              "      <td>1024</td>\n",
              "      <td>1024</td>\n",
              "      <td>[248.0, 303.0, 130.0, 107.0]</td>\n",
              "      <td>arvalis_2</td>\n",
              "    </tr>\n",
              "    <tr>\n",
              "      <th>147774</th>\n",
              "      <td>5e0747034</td>\n",
              "      <td>1024</td>\n",
              "      <td>1024</td>\n",
              "      <td>[273.0, 284.0, 113.0, 92.0]</td>\n",
              "      <td>arvalis_2</td>\n",
              "    </tr>\n",
              "    <tr>\n",
              "      <th>147775</th>\n",
              "      <td>5e0747034</td>\n",
              "      <td>1024</td>\n",
              "      <td>1024</td>\n",
              "      <td>[494.0, 125.0, 105.0, 92.0]</td>\n",
              "      <td>arvalis_2</td>\n",
              "    </tr>\n",
              "    <tr>\n",
              "      <th>147776</th>\n",
              "      <td>5e0747034</td>\n",
              "      <td>1024</td>\n",
              "      <td>1024</td>\n",
              "      <td>[412.0, 220.0, 115.0, 97.0]</td>\n",
              "      <td>arvalis_2</td>\n",
              "    </tr>\n",
              "    <tr>\n",
              "      <th>147777</th>\n",
              "      <td>5e0747034</td>\n",
              "      <td>1024</td>\n",
              "      <td>1024</td>\n",
              "      <td>[332.0, 404.0, 131.0, 87.0]</td>\n",
              "      <td>arvalis_2</td>\n",
              "    </tr>\n",
              "    <tr>\n",
              "      <th>147778</th>\n",
              "      <td>5e0747034</td>\n",
              "      <td>1024</td>\n",
              "      <td>1024</td>\n",
              "      <td>[289.0, 742.0, 87.0, 72.0]</td>\n",
              "      <td>arvalis_2</td>\n",
              "    </tr>\n",
              "    <tr>\n",
              "      <th>147779</th>\n",
              "      <td>5e0747034</td>\n",
              "      <td>1024</td>\n",
              "      <td>1024</td>\n",
              "      <td>[775.0, 586.0, 72.0, 56.0]</td>\n",
              "      <td>arvalis_2</td>\n",
              "    </tr>\n",
              "    <tr>\n",
              "      <th>147780</th>\n",
              "      <td>5e0747034</td>\n",
              "      <td>1024</td>\n",
              "      <td>1024</td>\n",
              "      <td>[389.0, 927.0, 180.0, 97.0]</td>\n",
              "      <td>arvalis_2</td>\n",
              "    </tr>\n",
              "    <tr>\n",
              "      <th>147781</th>\n",
              "      <td>5e0747034</td>\n",
              "      <td>1024</td>\n",
              "      <td>1024</td>\n",
              "      <td>[673.0, 337.0, 79.0, 95.0]</td>\n",
              "      <td>arvalis_2</td>\n",
              "    </tr>\n",
              "    <tr>\n",
              "      <th>147782</th>\n",
              "      <td>5e0747034</td>\n",
              "      <td>1024</td>\n",
              "      <td>1024</td>\n",
              "      <td>[911.0, 243.0, 110.0, 79.0]</td>\n",
              "      <td>arvalis_2</td>\n",
              "    </tr>\n",
              "    <tr>\n",
              "      <th>147783</th>\n",
              "      <td>5e0747034</td>\n",
              "      <td>1024</td>\n",
              "      <td>1024</td>\n",
              "      <td>[668.0, 81.0, 110.0, 70.0]</td>\n",
              "      <td>arvalis_2</td>\n",
              "    </tr>\n",
              "    <tr>\n",
              "      <th>147784</th>\n",
              "      <td>5e0747034</td>\n",
              "      <td>1024</td>\n",
              "      <td>1024</td>\n",
              "      <td>[716.0, 7.0, 80.0, 64.0]</td>\n",
              "      <td>arvalis_2</td>\n",
              "    </tr>\n",
              "    <tr>\n",
              "      <th>147785</th>\n",
              "      <td>5e0747034</td>\n",
              "      <td>1024</td>\n",
              "      <td>1024</td>\n",
              "      <td>[217.0, 865.0, 115.0, 102.0]</td>\n",
              "      <td>arvalis_2</td>\n",
              "    </tr>\n",
              "    <tr>\n",
              "      <th>147786</th>\n",
              "      <td>5e0747034</td>\n",
              "      <td>1024</td>\n",
              "      <td>1024</td>\n",
              "      <td>[916.0, 46.0, 64.0, 56.0]</td>\n",
              "      <td>arvalis_2</td>\n",
              "    </tr>\n",
              "    <tr>\n",
              "      <th>147787</th>\n",
              "      <td>5e0747034</td>\n",
              "      <td>1024</td>\n",
              "      <td>1024</td>\n",
              "      <td>[852.0, 640.0, 82.0, 94.0]</td>\n",
              "      <td>arvalis_2</td>\n",
              "    </tr>\n",
              "    <tr>\n",
              "      <th>147788</th>\n",
              "      <td>5e0747034</td>\n",
              "      <td>1024</td>\n",
              "      <td>1024</td>\n",
              "      <td>[64.0, 619.0, 84.0, 95.0]</td>\n",
              "      <td>arvalis_2</td>\n",
              "    </tr>\n",
              "    <tr>\n",
              "      <th>147789</th>\n",
              "      <td>5e0747034</td>\n",
              "      <td>1024</td>\n",
              "      <td>1024</td>\n",
              "      <td>[292.0, 549.0, 107.0, 82.0]</td>\n",
              "      <td>arvalis_2</td>\n",
              "    </tr>\n",
              "    <tr>\n",
              "      <th>147790</th>\n",
              "      <td>5e0747034</td>\n",
              "      <td>1024</td>\n",
              "      <td>1024</td>\n",
              "      <td>[134.0, 228.0, 141.0, 71.0]</td>\n",
              "      <td>arvalis_2</td>\n",
              "    </tr>\n",
              "    <tr>\n",
              "      <th>147791</th>\n",
              "      <td>5e0747034</td>\n",
              "      <td>1024</td>\n",
              "      <td>1024</td>\n",
              "      <td>[430.0, 13.0, 184.0, 79.0]</td>\n",
              "      <td>arvalis_2</td>\n",
              "    </tr>\n",
              "    <tr>\n",
              "      <th>147792</th>\n",
              "      <td>5e0747034</td>\n",
              "      <td>1024</td>\n",
              "      <td>1024</td>\n",
              "      <td>[875.0, 740.0, 94.0, 61.0]</td>\n",
              "      <td>arvalis_2</td>\n",
              "    </tr>\n",
              "  </tbody>\n",
              "</table>\n",
              "</div>"
            ],
            "text/plain": [
              "         image_id  width  height                          bbox     source\n",
              "147773  e6b5e296d   1024    1024  [248.0, 303.0, 130.0, 107.0]  arvalis_2\n",
              "147774  5e0747034   1024    1024   [273.0, 284.0, 113.0, 92.0]  arvalis_2\n",
              "147775  5e0747034   1024    1024   [494.0, 125.0, 105.0, 92.0]  arvalis_2\n",
              "147776  5e0747034   1024    1024   [412.0, 220.0, 115.0, 97.0]  arvalis_2\n",
              "147777  5e0747034   1024    1024   [332.0, 404.0, 131.0, 87.0]  arvalis_2\n",
              "147778  5e0747034   1024    1024    [289.0, 742.0, 87.0, 72.0]  arvalis_2\n",
              "147779  5e0747034   1024    1024    [775.0, 586.0, 72.0, 56.0]  arvalis_2\n",
              "147780  5e0747034   1024    1024   [389.0, 927.0, 180.0, 97.0]  arvalis_2\n",
              "147781  5e0747034   1024    1024    [673.0, 337.0, 79.0, 95.0]  arvalis_2\n",
              "147782  5e0747034   1024    1024   [911.0, 243.0, 110.0, 79.0]  arvalis_2\n",
              "147783  5e0747034   1024    1024    [668.0, 81.0, 110.0, 70.0]  arvalis_2\n",
              "147784  5e0747034   1024    1024      [716.0, 7.0, 80.0, 64.0]  arvalis_2\n",
              "147785  5e0747034   1024    1024  [217.0, 865.0, 115.0, 102.0]  arvalis_2\n",
              "147786  5e0747034   1024    1024     [916.0, 46.0, 64.0, 56.0]  arvalis_2\n",
              "147787  5e0747034   1024    1024    [852.0, 640.0, 82.0, 94.0]  arvalis_2\n",
              "147788  5e0747034   1024    1024     [64.0, 619.0, 84.0, 95.0]  arvalis_2\n",
              "147789  5e0747034   1024    1024   [292.0, 549.0, 107.0, 82.0]  arvalis_2\n",
              "147790  5e0747034   1024    1024   [134.0, 228.0, 141.0, 71.0]  arvalis_2\n",
              "147791  5e0747034   1024    1024    [430.0, 13.0, 184.0, 79.0]  arvalis_2\n",
              "147792  5e0747034   1024    1024    [875.0, 740.0, 94.0, 61.0]  arvalis_2"
            ]
          },
          "metadata": {
            "tags": []
          },
          "execution_count": 67
        }
      ]
    },
    {
      "cell_type": "code",
      "metadata": {
        "id": "Cj_JW7t2UJ9y",
        "colab_type": "code",
        "colab": {
          "base_uri": "https://localhost:8080/",
          "height": 221
        },
        "outputId": "65eae7e3-26d4-438f-9792-3d69d52e89c2"
      },
      "source": [
        "train.info()"
      ],
      "execution_count": 65,
      "outputs": [
        {
          "output_type": "stream",
          "text": [
            "<class 'pandas.core.frame.DataFrame'>\n",
            "RangeIndex: 147793 entries, 0 to 147792\n",
            "Data columns (total 5 columns):\n",
            " #   Column    Non-Null Count   Dtype \n",
            "---  ------    --------------   ----- \n",
            " 0   image_id  147793 non-null  object\n",
            " 1   width     147793 non-null  int64 \n",
            " 2   height    147793 non-null  int64 \n",
            " 3   bbox      147793 non-null  object\n",
            " 4   source    147793 non-null  object\n",
            "dtypes: int64(2), object(3)\n",
            "memory usage: 5.6+ MB\n"
          ],
          "name": "stdout"
        }
      ]
    },
    {
      "cell_type": "code",
      "metadata": {
        "id": "SxjJ76eJUNIy",
        "colab_type": "code",
        "colab": {
          "base_uri": "https://localhost:8080/",
          "height": 204
        },
        "outputId": "6418ed50-adef-4d0e-d89c-f8ad9a87c8ee"
      },
      "source": [
        "sampple_output.tail()"
      ],
      "execution_count": 66,
      "outputs": [
        {
          "output_type": "execute_result",
          "data": {
            "text/html": [
              "<div>\n",
              "<style scoped>\n",
              "    .dataframe tbody tr th:only-of-type {\n",
              "        vertical-align: middle;\n",
              "    }\n",
              "\n",
              "    .dataframe tbody tr th {\n",
              "        vertical-align: top;\n",
              "    }\n",
              "\n",
              "    .dataframe thead th {\n",
              "        text-align: right;\n",
              "    }\n",
              "</style>\n",
              "<table border=\"1\" class=\"dataframe\">\n",
              "  <thead>\n",
              "    <tr style=\"text-align: right;\">\n",
              "      <th></th>\n",
              "      <th>image_id</th>\n",
              "      <th>PredictionString</th>\n",
              "    </tr>\n",
              "  </thead>\n",
              "  <tbody>\n",
              "    <tr>\n",
              "      <th>5</th>\n",
              "      <td>348a992bb</td>\n",
              "      <td>1.0 0 0 50 50</td>\n",
              "    </tr>\n",
              "    <tr>\n",
              "      <th>6</th>\n",
              "      <td>cc3532ff6</td>\n",
              "      <td>1.0 0 0 50 50</td>\n",
              "    </tr>\n",
              "    <tr>\n",
              "      <th>7</th>\n",
              "      <td>2fd875eaa</td>\n",
              "      <td>1.0 0 0 50 50</td>\n",
              "    </tr>\n",
              "    <tr>\n",
              "      <th>8</th>\n",
              "      <td>cb8d261a3</td>\n",
              "      <td>1.0 0 0 50 50</td>\n",
              "    </tr>\n",
              "    <tr>\n",
              "      <th>9</th>\n",
              "      <td>53f253011</td>\n",
              "      <td>1.0 0 0 50 50</td>\n",
              "    </tr>\n",
              "  </tbody>\n",
              "</table>\n",
              "</div>"
            ],
            "text/plain": [
              "    image_id PredictionString\n",
              "5  348a992bb    1.0 0 0 50 50\n",
              "6  cc3532ff6    1.0 0 0 50 50\n",
              "7  2fd875eaa    1.0 0 0 50 50\n",
              "8  cb8d261a3    1.0 0 0 50 50\n",
              "9  53f253011    1.0 0 0 50 50"
            ]
          },
          "metadata": {
            "tags": []
          },
          "execution_count": 66
        }
      ]
    },
    {
      "cell_type": "code",
      "metadata": {
        "id": "DA8V5xf3ZhYT",
        "colab_type": "code",
        "colab": {}
      },
      "source": [
        ""
      ],
      "execution_count": null,
      "outputs": []
    }
  ]
}